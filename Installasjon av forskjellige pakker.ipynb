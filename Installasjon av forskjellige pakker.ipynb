{
 "cells": [
  {
   "cell_type": "markdown",
   "metadata": {},
   "source": [
    "# Installer pakker for diverse analyse"
   ]
  },
  {
   "cell_type": "markdown",
   "metadata": {},
   "source": [
    "### Oppgrader pip "
   ]
  },
  {
   "cell_type": "code",
   "execution_count": 1,
   "metadata": {},
   "outputs": [
    {
     "name": "stdout",
     "output_type": "stream",
     "text": [
      "Requirement already up-to-date: pip in c:\\users\\larsj\\appdata\\local\\continuum\\anaconda3\\lib\\site-packages (18.1)\n"
     ]
    }
   ],
   "source": [
    "!python -m pip install --upgrade pip"
   ]
  },
  {
   "cell_type": "markdown",
   "metadata": {},
   "source": [
    "### og installer Wordcloud, litt mer info på [Github](https://github.com/amueller/word_cloud)"
   ]
  },
  {
   "cell_type": "code",
   "execution_count": 2,
   "metadata": {},
   "outputs": [
    {
     "name": "stdout",
     "output_type": "stream",
     "text": [
      "Requirement already satisfied: msgpack in c:\\users\\larsj\\appdata\\local\\continuum\\anaconda3\\lib\\site-packages (0.5.6)\n",
      "Requirement already satisfied: wordcloud in c:\\users\\larsj\\appdata\\local\\continuum\\anaconda3\\lib\\site-packages (1.4.1)\n",
      "Requirement already satisfied: pillow in c:\\users\\larsj\\appdata\\local\\continuum\\anaconda3\\lib\\site-packages (from wordcloud) (5.1.0)\n",
      "Requirement already satisfied: matplotlib in c:\\users\\larsj\\appdata\\local\\continuum\\anaconda3\\lib\\site-packages (from wordcloud) (2.2.2)\n",
      "Requirement already satisfied: numpy>=1.6.1 in c:\\users\\larsj\\appdata\\local\\continuum\\anaconda3\\lib\\site-packages (from wordcloud) (1.14.3)\n",
      "Requirement already satisfied: cycler>=0.10 in c:\\users\\larsj\\appdata\\local\\continuum\\anaconda3\\lib\\site-packages (from matplotlib->wordcloud) (0.10.0)\n",
      "Requirement already satisfied: pyparsing!=2.0.4,!=2.1.2,!=2.1.6,>=2.0.1 in c:\\users\\larsj\\appdata\\local\\continuum\\anaconda3\\lib\\site-packages (from matplotlib->wordcloud) (2.2.0)\n",
      "Requirement already satisfied: python-dateutil>=2.1 in c:\\users\\larsj\\appdata\\local\\continuum\\anaconda3\\lib\\site-packages (from matplotlib->wordcloud) (2.7.3)\n",
      "Requirement already satisfied: pytz in c:\\users\\larsj\\appdata\\local\\continuum\\anaconda3\\lib\\site-packages (from matplotlib->wordcloud) (2018.4)\n",
      "Requirement already satisfied: six>=1.10 in c:\\users\\larsj\\appdata\\local\\continuum\\anaconda3\\lib\\site-packages (from matplotlib->wordcloud) (1.11.0)\n",
      "Requirement already satisfied: kiwisolver>=1.0.1 in c:\\users\\larsj\\appdata\\local\\continuum\\anaconda3\\lib\\site-packages (from matplotlib->wordcloud) (1.0.1)\n",
      "Requirement already satisfied: setuptools in c:\\users\\larsj\\appdata\\local\\continuum\\anaconda3\\lib\\site-packages (from kiwisolver>=1.0.1->matplotlib->wordcloud) (39.1.0)\n"
     ]
    }
   ],
   "source": [
    "!pip install msgpack\n",
    "!pip install wordcloud"
   ]
  },
  {
   "cell_type": "markdown",
   "metadata": {},
   "source": [
    "### Pakke for grafer og clustring av nettverk [Wikipedia](https://en.wikipedia.org/wiki/Louvain_Modularity), [Python](https://python-louvain.readthedocs.io/en/latest/)"
   ]
  },
  {
   "cell_type": "code",
   "execution_count": 3,
   "metadata": {},
   "outputs": [
    {
     "name": "stdout",
     "output_type": "stream",
     "text": [
      "Requirement already satisfied: python_louvain in c:\\users\\larsj\\appdata\\local\\continuum\\anaconda3\\lib\\site-packages (0.11)\n",
      "Requirement already satisfied: networkx in c:\\users\\larsj\\appdata\\local\\continuum\\anaconda3\\lib\\site-packages (from python_louvain) (2.1)\n",
      "Requirement already satisfied: decorator>=4.1.0 in c:\\users\\larsj\\appdata\\local\\continuum\\anaconda3\\lib\\site-packages (from networkx->python_louvain) (4.3.0)\n"
     ]
    }
   ],
   "source": [
    "!pip install python_louvain"
   ]
  },
  {
   "cell_type": "markdown",
   "metadata": {},
   "source": [
    "### Visning av XML og prosessering av HTML https://www.crummy.com/software/BeautifulSoup/bs4/doc/"
   ]
  },
  {
   "cell_type": "code",
   "execution_count": 4,
   "metadata": {},
   "outputs": [
    {
     "name": "stdout",
     "output_type": "stream",
     "text": [
      "Requirement already satisfied: beautifulsoup4 in c:\\users\\larsj\\appdata\\local\\continuum\\anaconda3\\lib\\site-packages (4.6.0)\n"
     ]
    }
   ],
   "source": [
    "!pip install beautifulsoup4"
   ]
  },
  {
   "cell_type": "markdown",
   "metadata": {},
   "source": [
    "### En oppfriskning av kjernen - om nødvendig "
   ]
  },
  {
   "cell_type": "code",
   "execution_count": 5,
   "metadata": {},
   "outputs": [
    {
     "name": "stdout",
     "output_type": "stream",
     "text": [
      "Requirement already satisfied: ipykernel in c:\\users\\larsj\\appdata\\local\\continuum\\anaconda3\\lib\\site-packages (4.8.2)\n",
      "Requirement already satisfied: ipython>=4.0.0 in c:\\users\\larsj\\appdata\\local\\continuum\\anaconda3\\lib\\site-packages (from ipykernel) (6.4.0)\n",
      "Requirement already satisfied: traitlets>=4.1.0 in c:\\users\\larsj\\appdata\\local\\continuum\\anaconda3\\lib\\site-packages (from ipykernel) (4.3.2)\n",
      "Requirement already satisfied: jupyter_client in c:\\users\\larsj\\appdata\\local\\continuum\\anaconda3\\lib\\site-packages (from ipykernel) (5.2.3)\n",
      "Requirement already satisfied: tornado>=4.0 in c:\\users\\larsj\\appdata\\local\\continuum\\anaconda3\\lib\\site-packages (from ipykernel) (5.0.2)\n",
      "Requirement already satisfied: pickleshare in c:\\users\\larsj\\appdata\\local\\continuum\\anaconda3\\lib\\site-packages (from ipython>=4.0.0->ipykernel) (0.7.4)\n",
      "Requirement already satisfied: pygments in c:\\users\\larsj\\appdata\\local\\continuum\\anaconda3\\lib\\site-packages (from ipython>=4.0.0->ipykernel) (2.2.0)\n",
      "Requirement already satisfied: setuptools>=18.5 in c:\\users\\larsj\\appdata\\local\\continuum\\anaconda3\\lib\\site-packages (from ipython>=4.0.0->ipykernel) (39.1.0)\n",
      "Requirement already satisfied: simplegeneric>0.8 in c:\\users\\larsj\\appdata\\local\\continuum\\anaconda3\\lib\\site-packages (from ipython>=4.0.0->ipykernel) (0.8.1)\n",
      "Requirement already satisfied: prompt-toolkit<2.0.0,>=1.0.15 in c:\\users\\larsj\\appdata\\local\\continuum\\anaconda3\\lib\\site-packages (from ipython>=4.0.0->ipykernel) (1.0.15)\n",
      "Requirement already satisfied: decorator in c:\\users\\larsj\\appdata\\local\\continuum\\anaconda3\\lib\\site-packages (from ipython>=4.0.0->ipykernel) (4.3.0)\n",
      "Requirement already satisfied: jedi>=0.10 in c:\\users\\larsj\\appdata\\local\\continuum\\anaconda3\\lib\\site-packages (from ipython>=4.0.0->ipykernel) (0.12.0)\n",
      "Requirement already satisfied: colorama; sys_platform == \"win32\" in c:\\users\\larsj\\appdata\\local\\continuum\\anaconda3\\lib\\site-packages (from ipython>=4.0.0->ipykernel) (0.3.9)\n",
      "Requirement already satisfied: backcall in c:\\users\\larsj\\appdata\\local\\continuum\\anaconda3\\lib\\site-packages (from ipython>=4.0.0->ipykernel) (0.1.0)\n",
      "Requirement already satisfied: ipython_genutils in c:\\users\\larsj\\appdata\\local\\continuum\\anaconda3\\lib\\site-packages (from traitlets>=4.1.0->ipykernel) (0.2.0)\n",
      "Requirement already satisfied: six in c:\\users\\larsj\\appdata\\local\\continuum\\anaconda3\\lib\\site-packages (from traitlets>=4.1.0->ipykernel) (1.11.0)\n",
      "Requirement already satisfied: jupyter_core in c:\\users\\larsj\\appdata\\local\\continuum\\anaconda3\\lib\\site-packages (from jupyter_client->ipykernel) (4.4.0)\n",
      "Requirement already satisfied: pyzmq>=13 in c:\\users\\larsj\\appdata\\local\\continuum\\anaconda3\\lib\\site-packages (from jupyter_client->ipykernel) (17.0.0)\n",
      "Requirement already satisfied: python-dateutil>=2.1 in c:\\users\\larsj\\appdata\\local\\continuum\\anaconda3\\lib\\site-packages (from jupyter_client->ipykernel) (2.7.3)\n",
      "Requirement already satisfied: wcwidth in c:\\users\\larsj\\appdata\\local\\continuum\\anaconda3\\lib\\site-packages (from prompt-toolkit<2.0.0,>=1.0.15->ipython>=4.0.0->ipykernel) (0.1.7)\n",
      "Requirement already satisfied: parso>=0.2.0 in c:\\users\\larsj\\appdata\\local\\continuum\\anaconda3\\lib\\site-packages (from jedi>=0.10->ipython>=4.0.0->ipykernel) (0.2.0)\n"
     ]
    }
   ],
   "source": [
    "!pip install ipykernel"
   ]
  },
  {
   "cell_type": "markdown",
   "metadata": {},
   "source": [
    "### OpenCV for bildebehandling, https://opencv.org/"
   ]
  },
  {
   "cell_type": "code",
   "execution_count": 6,
   "metadata": {},
   "outputs": [
    {
     "name": "stdout",
     "output_type": "stream",
     "text": [
      "Requirement already satisfied: opencv-python in c:\\users\\larsj\\appdata\\local\\continuum\\anaconda3\\lib\\site-packages (3.4.3.18)\n",
      "Requirement already satisfied: numpy>=1.11.3 in c:\\users\\larsj\\appdata\\local\\continuum\\anaconda3\\lib\\site-packages (from opencv-python) (1.14.3)\n"
     ]
    }
   ],
   "source": [
    "!pip install opencv-python"
   ]
  }
 ],
 "metadata": {
  "kernelspec": {
   "display_name": "Python 3",
   "language": "python",
   "name": "python3"
  },
  "language_info": {
   "codemirror_mode": {
    "name": "ipython",
    "version": 3
   },
   "file_extension": ".py",
   "mimetype": "text/x-python",
   "name": "python",
   "nbconvert_exporter": "python",
   "pygments_lexer": "ipython3",
   "version": "3.6.5"
  }
 },
 "nbformat": 4,
 "nbformat_minor": 2
}
