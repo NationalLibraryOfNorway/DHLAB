{
 "cells": [
  {
   "cell_type": "code",
   "execution_count": 4,
   "metadata": {},
   "outputs": [],
   "source": [
    "import requests"
   ]
  },
  {
   "cell_type": "code",
   "execution_count": 5,
   "metadata": {},
   "outputs": [],
   "source": [
    "def konk(urns=None, word=None, before=5, after=5, only_urn=True):\n",
    "    params = locals()\n",
    "    #print(params)\n",
    "    r = requests.post(\"https://api.nb.no/ngram/urnkonk\", json = params)\n",
    "    return r.json()\n",
    "\n",
    "def meta_natbib(children = False, yearfrom = \"\", yearto = \"\", lang = None, author = None, title = None, subtitle = None, publisher = None, subject = None, topic = None, marctuples = None, limit=20):\n",
    "    params = locals()\n",
    "    #print(params)\n",
    "    r = requests.post(\"https://api.nb.no/ngram/get_urns\", json = params)\n",
    "    return r.json()\n",
    "\n",
    "def metadata(urns=None, marctuples = [(100,1,' ', 'a'),(260, ' ',' ', 'c'), (245,1,3,'a'),(245,1,0,'a'),(245,1,3,'b'),(245,1,0,'b'), (650,7,' ','a'), (653,' ',' ','a')]):\n",
    "    params = locals()\n",
    "    #print(params)\n",
    "    r = requests.post(\"https://api.nb.no/ngram/metadata\", json=params)\n",
    "    return r.json()"
   ]
  },
  {
   "cell_type": "code",
   "execution_count": 6,
   "metadata": {},
   "outputs": [],
   "source": [
    "def frequencies(urns = None, cutoff = 0):\n",
    "    params = locals()\n",
    "    r = requests.post(BASE_URL1 + \"/frequencies\", json = params)\n",
    "    result = r.json()\n",
    "    structure = {u[0][0] : dict([tuple(x[1:]) for x in u]) for u in result if u != []}\n",
    "    return structure"
   ]
  },
  {
   "cell_type": "code",
   "execution_count": 22,
   "metadata": {},
   "outputs": [],
   "source": [
    "def find_urns(docids = None):\n",
    "    params = locals()\n",
    "    r = requests.post(BASE_URL1 + \"/find_urn\", json = params)\n",
    "    return r.json()"
   ]
  },
  {
   "cell_type": "code",
   "execution_count": 49,
   "metadata": {},
   "outputs": [],
   "source": [
    "def get_reference(corpus = 'digavis', from_year = 1950, to_year = 1955, lang = 'nob', limit = 100000):\n",
    "    params = locals()\n",
    "    r = requests.get(BASE_URL + \"/reference_corpus\", params = params)\n",
    "    if r.status_code == 200:\n",
    "        result = r.json()\n",
    "    else:\n",
    "        result = []\n",
    "    return pd.DataFrame(result, columns = ['word', 'freq']).set_index('word')"
   ]
  },
  {
   "cell_type": "code",
   "execution_count": 50,
   "metadata": {},
   "outputs": [
    {
     "data": {
      "text/html": [
       "<div>\n",
       "<style scoped>\n",
       "    .dataframe tbody tr th:only-of-type {\n",
       "        vertical-align: middle;\n",
       "    }\n",
       "\n",
       "    .dataframe tbody tr th {\n",
       "        vertical-align: top;\n",
       "    }\n",
       "\n",
       "    .dataframe thead th {\n",
       "        text-align: right;\n",
       "    }\n",
       "</style>\n",
       "<table border=\"1\" class=\"dataframe\">\n",
       "  <thead>\n",
       "    <tr style=\"text-align: right;\">\n",
       "      <th></th>\n",
       "      <th>freq</th>\n",
       "    </tr>\n",
       "    <tr>\n",
       "      <th>word</th>\n",
       "      <th></th>\n",
       "    </tr>\n",
       "  </thead>\n",
       "  <tbody>\n",
       "    <tr>\n",
       "      <th>.</th>\n",
       "      <td>179730338</td>\n",
       "    </tr>\n",
       "    <tr>\n",
       "      <th>,</th>\n",
       "      <td>105895990</td>\n",
       "    </tr>\n",
       "    <tr>\n",
       "      <th>i</th>\n",
       "      <td>63385398</td>\n",
       "    </tr>\n",
       "    <tr>\n",
       "      <th>og</th>\n",
       "      <td>58712477</td>\n",
       "    </tr>\n",
       "    <tr>\n",
       "      <th>til</th>\n",
       "      <td>30987239</td>\n",
       "    </tr>\n",
       "    <tr>\n",
       "      <th>...</th>\n",
       "      <td>...</td>\n",
       "    </tr>\n",
       "    <tr>\n",
       "      <th>Skrubstad</th>\n",
       "      <td>506</td>\n",
       "    </tr>\n",
       "    <tr>\n",
       "      <th>98424.</th>\n",
       "      <td>506</td>\n",
       "    </tr>\n",
       "    <tr>\n",
       "      <th>FARGEFILMEN</th>\n",
       "      <td>506</td>\n",
       "    </tr>\n",
       "    <tr>\n",
       "      <th>gasspedalen</th>\n",
       "      <td>506</td>\n",
       "    </tr>\n",
       "    <tr>\n",
       "      <th>Greetings</th>\n",
       "      <td>506</td>\n",
       "    </tr>\n",
       "  </tbody>\n",
       "</table>\n",
       "<p>100000 rows × 1 columns</p>\n",
       "</div>"
      ],
      "text/plain": [
       "                  freq\n",
       "word                  \n",
       ".            179730338\n",
       ",            105895990\n",
       "i             63385398\n",
       "og            58712477\n",
       "til           30987239\n",
       "...                ...\n",
       "Skrubstad          506\n",
       "98424.             506\n",
       "FARGEFILMEN        506\n",
       "gasspedalen        506\n",
       "Greetings          506\n",
       "\n",
       "[100000 rows x 1 columns]"
      ]
     },
     "execution_count": 50,
     "metadata": {},
     "output_type": "execute_result"
    }
   ],
   "source": [
    "get_reference(limit = 100000)"
   ]
  },
  {
   "cell_type": "code",
   "execution_count": 8,
   "metadata": {},
   "outputs": [],
   "source": [
    "import dhlab_v2 as d2"
   ]
  },
  {
   "cell_type": "code",
   "execution_count": 9,
   "metadata": {},
   "outputs": [],
   "source": [
    "BASE_URL = \"https://api.nb.no/ngram/db2\"\n",
    "BASE_URL1 = \"https://api.nb.no/ngram/db1\""
   ]
  },
  {
   "cell_type": "code",
   "execution_count": 10,
   "metadata": {},
   "outputs": [],
   "source": [
    "urns = list(d2.document_corpus(from_year = 2000, to_year = 2002, limit = 10).urn)"
   ]
  },
  {
   "cell_type": "code",
   "execution_count": 11,
   "metadata": {},
   "outputs": [],
   "source": [
    "result = frequencies(urns = urns, cutoff = 20)"
   ]
  },
  {
   "cell_type": "code",
   "execution_count": 12,
   "metadata": {},
   "outputs": [],
   "source": [
    "import pandas as pd"
   ]
  },
  {
   "cell_type": "code",
   "execution_count": 15,
   "metadata": {},
   "outputs": [],
   "source": [
    "df = pd.DataFrame(result)"
   ]
  },
  {
   "cell_type": "code",
   "execution_count": 24,
   "metadata": {},
   "outputs": [],
   "source": [
    "fu = find_urns(docids = list(df.columns))"
   ]
  },
  {
   "cell_type": "code",
   "execution_count": 28,
   "metadata": {},
   "outputs": [
    {
     "data": {
      "text/html": [
       "<div>\n",
       "<style scoped>\n",
       "    .dataframe tbody tr th:only-of-type {\n",
       "        vertical-align: middle;\n",
       "    }\n",
       "\n",
       "    .dataframe tbody tr th {\n",
       "        vertical-align: top;\n",
       "    }\n",
       "\n",
       "    .dataframe thead th {\n",
       "        text-align: right;\n",
       "    }\n",
       "</style>\n",
       "<table border=\"1\" class=\"dataframe\">\n",
       "  <thead>\n",
       "    <tr style=\"text-align: right;\">\n",
       "      <th></th>\n",
       "      <th>urn</th>\n",
       "    </tr>\n",
       "  </thead>\n",
       "  <tbody>\n",
       "    <tr>\n",
       "      <th>200135263</th>\n",
       "      <td>URN:NBN:no-nb_digavis_arbeidetsrett_null_null_...</td>\n",
       "    </tr>\n",
       "    <tr>\n",
       "      <th>200382347</th>\n",
       "      <td>URN:NBN:no-nb_digavis_dagsavisen_null_null_200...</td>\n",
       "    </tr>\n",
       "    <tr>\n",
       "      <th>200553644</th>\n",
       "      <td>URN:NBN:no-nb_digavis_fiskeribladet_null_null_...</td>\n",
       "    </tr>\n",
       "    <tr>\n",
       "      <th>200769595</th>\n",
       "      <td>URN:NBN:no-nb_digavis_harstadtidende_null_null...</td>\n",
       "    </tr>\n",
       "    <tr>\n",
       "      <th>201457838</th>\n",
       "      <td>URN:NBN:no-nb_digavis_romerikesblad_null_null_...</td>\n",
       "    </tr>\n",
       "    <tr>\n",
       "      <th>201568584</th>\n",
       "      <td>URN:NBN:no-nb_digavis_sognavis_null_null_20010...</td>\n",
       "    </tr>\n",
       "    <tr>\n",
       "      <th>201752010</th>\n",
       "      <td>URN:NBN:no-nb_digavis_tromsfolkeblad_null_null...</td>\n",
       "    </tr>\n",
       "    <tr>\n",
       "      <th>201824775</th>\n",
       "      <td>URN:NBN:no-nb_digavis_ullensakerblad_null_null...</td>\n",
       "    </tr>\n",
       "    <tr>\n",
       "      <th>202574785</th>\n",
       "      <td>URN:NBN:no-nb_digavis_nordhordland_null_null_2...</td>\n",
       "    </tr>\n",
       "    <tr>\n",
       "      <th>300065604</th>\n",
       "      <td>URN:NBN:no-nb_digitidsskrift_2021011981065_001</td>\n",
       "    </tr>\n",
       "  </tbody>\n",
       "</table>\n",
       "</div>"
      ],
      "text/plain": [
       "                                                         urn\n",
       "200135263  URN:NBN:no-nb_digavis_arbeidetsrett_null_null_...\n",
       "200382347  URN:NBN:no-nb_digavis_dagsavisen_null_null_200...\n",
       "200553644  URN:NBN:no-nb_digavis_fiskeribladet_null_null_...\n",
       "200769595  URN:NBN:no-nb_digavis_harstadtidende_null_null...\n",
       "201457838  URN:NBN:no-nb_digavis_romerikesblad_null_null_...\n",
       "201568584  URN:NBN:no-nb_digavis_sognavis_null_null_20010...\n",
       "201752010  URN:NBN:no-nb_digavis_tromsfolkeblad_null_null...\n",
       "201824775  URN:NBN:no-nb_digavis_ullensakerblad_null_null...\n",
       "202574785  URN:NBN:no-nb_digavis_nordhordland_null_null_2...\n",
       "300065604     URN:NBN:no-nb_digitidsskrift_2021011981065_001"
      ]
     },
     "execution_count": 28,
     "metadata": {},
     "output_type": "execute_result"
    }
   ],
   "source": [
    "pd.DataFrame.from_dict(fu, orient = 'index', columns = ['urn'])"
   ]
  },
  {
   "cell_type": "code",
   "execution_count": 79,
   "metadata": {},
   "outputs": [],
   "source": [
    "import dhlab.nbtext as nb"
   ]
  },
  {
   "cell_type": "code",
   "execution_count": 93,
   "metadata": {},
   "outputs": [],
   "source": [
    "t = nb.book_corpus(author='ibsen%', title='%dukke%', period=(1800, 2010))"
   ]
  },
  {
   "cell_type": "code",
   "execution_count": 95,
   "metadata": {},
   "outputs": [
    {
     "data": {
      "text/plain": [
       "[2011010609040,\n",
       " 2010031510001,\n",
       " 2010112608074,\n",
       " 2016031009565,\n",
       " 2009061000024,\n",
       " 2010082422025,\n",
       " 2011072908024,\n",
       " 2010083123001,\n",
       " 2015120808042,\n",
       " 2012091409046,\n",
       " 2012082309582,\n",
       " 2007082204013,\n",
       " 2013010808064,\n",
       " 2007091301037,\n",
       " 2008112000060,\n",
       " 2011040608127,\n",
       " 2012080709541,\n",
       " 2011082409020,\n",
       " 2011030820014,\n",
       " 2010083022002]"
      ]
     },
     "execution_count": 95,
     "metadata": {},
     "output_type": "execute_result"
    }
   ],
   "source": [
    "list(t.urn)"
   ]
  },
  {
   "cell_type": "code",
   "execution_count": 111,
   "metadata": {},
   "outputs": [
    {
     "data": {
      "text/plain": [
       "{'2007082204013': {'100-1- -a': 'Ibsen, Henrik',\n",
       "  '245-1-3-a': 'Et dukkehjem :',\n",
       "  'lang': 'nob',\n",
       "  'year': 1991},\n",
       " '2007091301037': {'100-1- -a': 'Ibsen, Henrik',\n",
       "  '245-1-3-a': 'Et dukkehjem',\n",
       "  'lang': 'nob',\n",
       "  'year': 1989},\n",
       " '2008112000060': {'100-1- -a': 'Ibsen, Henrik',\n",
       "  '245-1-3-a': 'Et dukkehjem',\n",
       "  'lang': 'nob',\n",
       "  'year': 2001},\n",
       " '2009061000024': [],\n",
       " '2010031510001': {'100-1- -a': 'Ibsen, Henrik',\n",
       "  '245-1-3-a': 'Et dukkehjem :',\n",
       "  'lang': 'nob',\n",
       "  'year': 1879},\n",
       " '2010082422025': [],\n",
       " '2010083022002': {'100-1- -a': 'Ibsen, Henrik',\n",
       "  '245-1-3-a': 'Et dukkehjem og fire andre skuespil',\n",
       "  'lang': 'nob',\n",
       "  'year': 2006},\n",
       " '2010083123001': {'100-1- -a': 'Ibsen, Henrik',\n",
       "  '245-1-3-a': 'Et dukkehjem ; Gengangere ; Vildanden',\n",
       "  'lang': 'nob',\n",
       "  'year': 1989},\n",
       " '2010112608074': {'100-1- -a': 'Ibsen, Henrik',\n",
       "  '245-1-3-a': 'Et dukkehjem',\n",
       "  'lang': 'nob',\n",
       "  'year': 1995},\n",
       " '2011010609040': {'100-1- -a': 'Ibsen, Henrik',\n",
       "  '245-1-3-a': 'Et dukkehjem :',\n",
       "  'lang': 'nob',\n",
       "  'year': 1995},\n",
       " '2011030820014': {'100-1- -a': 'Ibsen, Henrik',\n",
       "  '245-1-3-a': 'Et dukkehjem',\n",
       "  'lang': 'nob',\n",
       "  'year': 1950},\n",
       " '2011040608127': {'100-1- -a': 'Ibsen, Henrik',\n",
       "  '245-1-3-a': 'Et dukkehjem :',\n",
       "  'lang': 'nob',\n",
       "  'year': 2003},\n",
       " '2011072908024': {'100-1- -a': 'Ibsen, Henrik',\n",
       "  '245-1-3-a': 'Et dukkehjem',\n",
       "  'lang': 'nob',\n",
       "  'year': 2006},\n",
       " '2011082409020': {'100-1- -a': 'Ibsen, Henrik',\n",
       "  '245-1-3-a': 'Et dukkehjem',\n",
       "  'lang': 'nob',\n",
       "  'year': 2006},\n",
       " '2012080709541': {'100-1- -a': 'Ibsen, Henrik',\n",
       "  '245-1-3-a': 'Et dukkehjem',\n",
       "  'lang': 'nob',\n",
       "  'year': 2009},\n",
       " '2012082309582': {'100-1- -a': 'Ibsen, Henrik',\n",
       "  '245-1-3-a': 'Et dukkehjem',\n",
       "  'lang': 'nob',\n",
       "  'year': 2010},\n",
       " '2012091409046': {'100-1- -a': 'Ibsen, Henrik',\n",
       "  '245-1-3-a': 'Et dukkehjem',\n",
       "  'lang': 'nob',\n",
       "  'year': 2009},\n",
       " '2013010808064': {'100-1- -a': 'Ibsen, Henrik',\n",
       "  '245-1-3-a': 'Et dukkehjem',\n",
       "  'lang': 'nob',\n",
       "  'year': 2005},\n",
       " '2015120808042': {'100-1- -a': 'Ibsen, Henrik',\n",
       "  '245-1-3-a': 'Et dukkehjem',\n",
       "  'lang': 'mul',\n",
       "  'year': 2006},\n",
       " '2016031009565': {'100-1- -a': 'Ibsen, Henrik',\n",
       "  '245-1-3-a': 'Et dukkehjem :',\n",
       "  'lang': 'nob',\n",
       "  'year': 2008}}"
      ]
     },
     "execution_count": 111,
     "metadata": {},
     "output_type": "execute_result"
    }
   ],
   "source": [
    "metadata(urns = list([str(x) for x in t.urn]), marctuples = [(100,1,' ', 'a'), (245,1,3,'a')])"
   ]
  }
 ],
 "metadata": {
  "kernelspec": {
   "display_name": "Python 3",
   "language": "python",
   "name": "python3"
  },
  "language_info": {
   "codemirror_mode": {
    "name": "ipython",
    "version": 3
   },
   "file_extension": ".py",
   "mimetype": "text/x-python",
   "name": "python",
   "nbconvert_exporter": "python",
   "pygments_lexer": "ipython3",
   "version": "3.8.3"
  }
 },
 "nbformat": 4,
 "nbformat_minor": 4
}
