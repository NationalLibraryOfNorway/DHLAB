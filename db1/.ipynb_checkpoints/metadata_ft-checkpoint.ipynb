{
 "cells": [
  {
   "cell_type": "code",
   "execution_count": 58,
   "metadata": {},
   "outputs": [],
   "source": [
    "import requests\n",
    "import pandas as pd\n",
    "\n",
    "\n",
    "baseurl = \"https://api.nb.no/ngram/db2\"\n",
    "\n",
    "pd.options.display.max_rows = 100\n",
    "\n",
    "\n",
    "def document_corpus(doctype = None, author = None,  from_year = None, to_year = None, title = None, ddk = None, subject = None, lang = None, limit = None):\n",
    "    \"\"\" Fetch a corpus based on metadata - doctypes are digibok, digavis, digitidsskrift\"\"\"\n",
    "    \n",
    "    parms = locals()\n",
    "    params = {x:parms[x] for x in parms if not parms[x] is None }\n",
    "    \n",
    "    if \"ddk\" in params and not '\"' in params['ddk'] and not 'OR' in params['ddk']:\n",
    "        params[\"ddk\"]  = \"\"\"  \"{d}\"   \"\"\".format(d = params['ddk'])\n",
    "        \n",
    "    r=requests.post(\"http://sprakbankdb1.lx.nb.no:8000/build_corpus\", json=params)\n",
    "    \n",
    "    return r.json()\n",
    "    "
   ]
  },
  {
   "cell_type": "code",
   "execution_count": 71,
   "metadata": {},
   "outputs": [
    {
     "data": {
      "text/plain": [
       "[['URN:NBN:no-nb_digibok_2009042700021',\n",
       "  'Bondevik, Jarle',\n",
       "  'Studiar i det nynorske bibelmålet : morfologi og ordtilfang',\n",
       "  1992],\n",
       " ['URN:NBN:no-nb_digibok_2020092848547',\n",
       "  'Lykke, Alexander Kristoffersen',\n",
       "  'Variation and change in the tense morphology of heritage Norwegian in North America',\n",
       "  2020],\n",
       " ['URN:NBN:no-nb_digibok_2015031106014',\n",
       "  'Bleken, Brynjulv',\n",
       "  'Riksmål og moderat bokmål : en sammenlignende oversikt',\n",
       "  1973],\n",
       " ['URN:NBN:no-nb_digibok_2010071408055',\n",
       "  'Johannessen, Janne Bondi',\n",
       "  'Automatisk morfologisk analyse og syntese : tonivåmodellen benyttet på norsk substantivbøying',\n",
       "  1990],\n",
       " ['URN:NBN:no-nb_digibok_2008081504077',\n",
       "  'Enger, Hans-Olav',\n",
       "  'The classification of strong verbs in Norwegian with special reference to the Oslo dialect : a study in inflectional morphology',\n",
       "  1998],\n",
       " ['URN:NBN:no-nb_digibok_2008031000096',\n",
       "  'Sjøtun, Kjersti',\n",
       "  'Adaptive aspects of growth and reproduction in two North Atlantic Laminaria species',\n",
       "  1995],\n",
       " ['URN:NBN:no-nb_digibok_2009012004152',\n",
       "  'Rønhovd, Jarle / Johannessen, Ole-Jørgen',\n",
       "  'Norsk morfologi',\n",
       "  1997],\n",
       " ['URN:NBN:no-nb_digibok_2014051908170',\n",
       "  'Engh, Jan',\n",
       "  'Bokmålsverb : en oversikt over hvordan verb bøyes i bokmål',\n",
       "  1996],\n",
       " ['URN:NBN:no-nb_digibok_2008102204117',\n",
       "  'Bjerkan, Kirsten Meyer',\n",
       "  'Verbal morphology in specifically language impaired children : evidence from Norwegian',\n",
       "  2000],\n",
       " ['URN:NBN:no-nb_digibok_2020050648544',\n",
       "  'Vinje, Finn-Erik',\n",
       "  'Norske ord i hus og hytte : om språkets byggeklosser',\n",
       "  2019]]"
      ]
     },
     "execution_count": 71,
     "metadata": {},
     "output_type": "execute_result"
    }
   ],
   "source": [
    "document_corpus(ddk = \"\"\" 641 2* OR 4* \"\"\", subject = \"morfologi NOT syntaks\" )"
   ]
  },
  {
   "cell_type": "code",
   "execution_count": 22,
   "metadata": {},
   "outputs": [
    {
     "data": {
      "text/plain": [
       "[['URN:NBN:no-nb_digibok_2011030420001',\n",
       "  'Lausnes, Peter',\n",
       "  'Bokhandelens vindusreklame',\n",
       "  1950],\n",
       " ['URN:NBN:no-nb_digibok_2012092706126',\n",
       "  'Haavardsholm, Haavard',\n",
       "  'Slavearbeid i det 20. århundre : Paris-prosessen om konsentrasjonsleirene i Sovjet-Samveldet',\n",
       "  1951],\n",
       " ['URN:NBN:no-nb_digibok_2008042204154',\n",
       "  'Rud, Nils Johan',\n",
       "  'Markus og bålene : roman',\n",
       "  1951],\n",
       " ['URN:NBN:no-nb_digibok_2011062105113',\n",
       "  'Harbitz, Francis',\n",
       "  'Lærebok i rettsmedisin',\n",
       "  1950],\n",
       " ['URN:NBN:no-nb_digibok_2008042204001',\n",
       "  'Hostovsky, Egon / Geelmuyden, Nicolai',\n",
       "  'En fremmed søker rom',\n",
       "  1950],\n",
       " ['URN:NBN:no-nb_digibok_2016041148003',\n",
       "  'Hulst, W.G. van de / Braaten, Bjørn. / Lindquist, Rudolf.',\n",
       "  'Peerke og kameratene hans',\n",
       "  1951],\n",
       " ['URN:NBN:no-nb_digibok_2011111608012',\n",
       "  'Julien, Paul / Langvik-Johannessen, Kåre',\n",
       "  'Den evige urskog : minner om ti års blodundersøkelser i Ekvatorial-Afrika',\n",
       "  1951],\n",
       " ['URN:NBN:no-nb_digibok_2011102708021',\n",
       "  'Kols, K.',\n",
       "  'Lommehåndbok i matematikk : hjelpekilde for realgymnaset',\n",
       "  1950],\n",
       " ['URN:NBN:no-nb_digibok_2011110908030',\n",
       "  'Carnegie, Dale',\n",
       "  'Hvordan vinne venner og virke på mennesker',\n",
       "  1951],\n",
       " ['URN:NBN:no-nb_digibok_2009020200033',\n",
       "  'Garborg, Arne / Villum, Asbjørn',\n",
       "  'Læraren : med utdrag or Fred, Den bortkomne faderen og Heimkomen son',\n",
       "  1951]]"
      ]
     },
     "execution_count": 22,
     "metadata": {},
     "output_type": "execute_result"
    }
   ],
   "source": [
    "document_corpus(from_year = 1950, to_year = 1951, doctype = 'digibok')"
   ]
  },
  {
   "cell_type": "code",
   "execution_count": 25,
   "metadata": {},
   "outputs": [
    {
     "data": {
      "text/plain": [
       "[['URN:NBN:no-nb_digibok_2011010503053',\n",
       "  'Bøe, Olav',\n",
       "  'Dei fine tonane : meisterspelemannen Bjarne Herrefoss : 50 år med folk og musikk',\n",
       "  1996],\n",
       " ['URN:NBN:no-nb_digibok_2011071408000',\n",
       "  'Søbye, Reinhardt',\n",
       "  'The dream',\n",
       "  2006],\n",
       " ['URN:NBN:no-nb_digibok_2008042201031',\n",
       "  'Uppdal, Kristofer',\n",
       "  'Uversskyer',\n",
       "  1917],\n",
       " ['URN:NBN:no-nb_digibok_2007051004020',\n",
       "  'Ørjasæter, Tore / Mæhle, Leif',\n",
       "  'Christophoros : eit draumspel',\n",
       "  1962],\n",
       " ['URN:NBN:no-nb_digibok_2014010858015',\n",
       "  'Amdahl, Bjarne / Sommerro, Henning / Prøysen, Alf',\n",
       "  'Lises vise',\n",
       "  2006],\n",
       " ['URN:NBN:no-nb_digibok_2018050248022',\n",
       "  'Øy, Nils E.',\n",
       "  'Kommentarbok til offentleglova',\n",
       "  2015],\n",
       " ['URN:NBN:no-nb_digibok_2014012209086',\n",
       "  '',\n",
       "  'Kommuneplan for 1994-2005 : arealdelen : vedteken av Lom kommunestyre 23. februar 1995',\n",
       "  1995],\n",
       " ['URN:NBN:no-nb_digibok_2012092508051',\n",
       "  'Markesjö, Gunnar',\n",
       "  'Pulskrinsar : elektronikk : grunnbok',\n",
       "  1984],\n",
       " ['URN:NBN:no-nb_digibok_2007020101009',\n",
       "  'Nilsen, Hans Jacob / Rytter, Henrik / Sæverud, Harald',\n",
       "  'Peer Gynt : eit antiromantisk verk',\n",
       "  1948],\n",
       " ['URN:NBN:no-nb_digibok_2009100700145',\n",
       "  'Kvam, Aud / Valdermo, Odd / Størkersen, Ivar Odd',\n",
       "  'Revita : naturfag 5-timarskurs : grunnbok',\n",
       "  1994]]"
      ]
     },
     "execution_count": 25,
     "metadata": {},
     "output_type": "execute_result"
    }
   ],
   "source": [
    "document_corpus(lang = 'nno', doctype = 'digibok')"
   ]
  }
 ],
 "metadata": {
  "kernelspec": {
   "display_name": "Python 3",
   "language": "python",
   "name": "python3"
  },
  "language_info": {
   "codemirror_mode": {
    "name": "ipython",
    "version": 3
   },
   "file_extension": ".py",
   "mimetype": "text/x-python",
   "name": "python",
   "nbconvert_exporter": "python",
   "pygments_lexer": "ipython3",
   "version": "3.8.3"
  }
 },
 "nbformat": 4,
 "nbformat_minor": 4
}
