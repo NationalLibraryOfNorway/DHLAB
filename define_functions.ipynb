{
 "cells": [
  {
   "cell_type": "code",
   "execution_count": 2,
   "metadata": {},
   "outputs": [
    {
     "name": "stderr",
     "output_type": "stream",
     "text": [
      "D:\\Anaconda3\\lib\\site-packages\\requests\\__init__.py:91: RequestsDependencyWarning: urllib3 (1.26.3) or chardet (3.0.4) doesn't match a supported version!\n",
      "  RequestsDependencyWarning)\n"
     ]
    }
   ],
   "source": [
    "import requests"
   ]
  },
  {
   "cell_type": "code",
   "execution_count": 9,
   "metadata": {},
   "outputs": [],
   "source": [
    "import pandas as pd"
   ]
  },
  {
   "cell_type": "markdown",
   "metadata": {},
   "source": [
    "BASE_URL = \"https://api.nb.no/ngram/db2\"\n",
    "BASE_URL1 = \"https://api.nb.no/ngram/db1\""
   ]
  },
  {
   "cell_type": "code",
   "execution_count": 10,
   "metadata": {},
   "outputs": [],
   "source": [
    "BASE_URL = \"https://api.nb.no/dhlab\"\n",
    "BASE_URL1 = \"https://api.nb.no/dhlab\""
   ]
  },
  {
   "cell_type": "code",
   "execution_count": 11,
   "metadata": {},
   "outputs": [],
   "source": [
    "def get_metadata(urns = None):\n",
    "    params = locals()\n",
    "    r = requests.post(f\"{BASE_URL}/get_metadata\", json = params)\n",
    "    return r.json()"
   ]
  },
  {
   "cell_type": "code",
   "execution_count": 12,
   "metadata": {},
   "outputs": [
    {
     "ename": "NameError",
     "evalue": "name 'document_corpus' is not defined",
     "output_type": "error",
     "traceback": [
      "\u001b[1;31m---------------------------------------------------------------------------\u001b[0m",
      "\u001b[1;31mNameError\u001b[0m                                 Traceback (most recent call last)",
      "\u001b[1;32m<ipython-input-12-75d1642a63b3>\u001b[0m in \u001b[0;36m<module>\u001b[1;34m\u001b[0m\n\u001b[1;32m----> 1\u001b[1;33m \u001b[0murns\u001b[0m \u001b[1;33m=\u001b[0m \u001b[0mlist\u001b[0m\u001b[1;33m(\u001b[0m\u001b[0mdocument_corpus\u001b[0m\u001b[1;33m(\u001b[0m\u001b[0mdoctype\u001b[0m \u001b[1;33m=\u001b[0m \u001b[1;34m'digibok'\u001b[0m\u001b[1;33m,\u001b[0m \u001b[0mfrom_year\u001b[0m \u001b[1;33m=\u001b[0m \u001b[1;36m1920\u001b[0m\u001b[1;33m,\u001b[0m \u001b[0mto_year\u001b[0m \u001b[1;33m=\u001b[0m \u001b[1;36m1930\u001b[0m\u001b[1;33m,\u001b[0m \u001b[0mlimit\u001b[0m \u001b[1;33m=\u001b[0m \u001b[1;36m300\u001b[0m\u001b[1;33m)\u001b[0m\u001b[1;33m.\u001b[0m\u001b[0murn\u001b[0m\u001b[1;33m)\u001b[0m\u001b[1;33m\u001b[0m\u001b[1;33m\u001b[0m\u001b[0m\n\u001b[0m",
      "\u001b[1;31mNameError\u001b[0m: name 'document_corpus' is not defined"
     ]
    }
   ],
   "source": [
    "urns = list(document_corpus(doctype = 'digibok', from_year = 1920, to_year = 1930, limit = 300).urn)"
   ]
  },
  {
   "cell_type": "code",
   "execution_count": 55,
   "metadata": {},
   "outputs": [
    {
     "name": "stdout",
     "output_type": "stream",
     "text": [
      "300\n"
     ]
    }
   ],
   "source": [
    "print(len(urns))"
   ]
  },
  {
   "cell_type": "code",
   "execution_count": 60,
   "metadata": {},
   "outputs": [
    {
     "data": {
      "text/html": [
       "<div>\n",
       "<style scoped>\n",
       "    .dataframe tbody tr th:only-of-type {\n",
       "        vertical-align: middle;\n",
       "    }\n",
       "\n",
       "    .dataframe tbody tr th {\n",
       "        vertical-align: top;\n",
       "    }\n",
       "\n",
       "    .dataframe thead th {\n",
       "        text-align: right;\n",
       "    }\n",
       "</style>\n",
       "<table border=\"1\" class=\"dataframe\">\n",
       "  <thead>\n",
       "    <tr style=\"text-align: right;\">\n",
       "      <th></th>\n",
       "      <th>urn</th>\n",
       "      <th>title</th>\n",
       "      <th>authors</th>\n",
       "      <th>oaiid</th>\n",
       "      <th>sesamid</th>\n",
       "      <th>isbn10</th>\n",
       "      <th>city</th>\n",
       "      <th>timestamp</th>\n",
       "      <th>year</th>\n",
       "      <th>publisher</th>\n",
       "      <th>langs</th>\n",
       "      <th>subjects</th>\n",
       "      <th>ddc</th>\n",
       "      <th>genres</th>\n",
       "      <th>literaryform</th>\n",
       "      <th>doctype</th>\n",
       "    </tr>\n",
       "  </thead>\n",
       "  <tbody>\n",
       "    <tr>\n",
       "      <th>0</th>\n",
       "      <td>URN:NBN:no-nb_digibok_2014101506007</td>\n",
       "      <td>Flukten til Island</td>\n",
       "      <td>Engelstad , Arne</td>\n",
       "      <td>oai:nb.bibsys.no:999523623094702202</td>\n",
       "      <td>a98620ec3a5304fa1bf51841bc9a7876</td>\n",
       "      <td></td>\n",
       "      <td>Oslo</td>\n",
       "      <td>19250101</td>\n",
       "      <td>1925</td>\n",
       "      <td>Grøndahl</td>\n",
       "      <td>nob</td>\n",
       "      <td></td>\n",
       "      <td></td>\n",
       "      <td>novel</td>\n",
       "      <td>Skjønnlitteratur</td>\n",
       "      <td>digibok</td>\n",
       "    </tr>\n",
       "    <tr>\n",
       "      <th>1</th>\n",
       "      <td>URN:NBN:no-nb_digibok_2016012548121</td>\n",
       "      <td>Udvalgte romancer og sange</td>\n",
       "      <td>Kjerulf , Halfdan</td>\n",
       "      <td>oai:nb.bibsys.no:991507527254702202</td>\n",
       "      <td>21b975750ac682c0d735af8cbe6a5d55</td>\n",
       "      <td></td>\n",
       "      <td>Leipzig</td>\n",
       "      <td>19280101</td>\n",
       "      <td>1928</td>\n",
       "      <td>Brandstetter</td>\n",
       "      <td>nob</td>\n",
       "      <td>sanger / romanser</td>\n",
       "      <td>783.242</td>\n",
       "      <td></td>\n",
       "      <td>Uklassifisert</td>\n",
       "      <td>digibok</td>\n",
       "    </tr>\n",
       "    <tr>\n",
       "      <th>2</th>\n",
       "      <td>URN:NBN:no-nb_digibok_2010110806068</td>\n",
       "      <td>Odysseen</td>\n",
       "      <td>Homerus / Østbye , P. (Peter)</td>\n",
       "      <td>oai:nb.bibsys.no:990309816704702202</td>\n",
       "      <td>25d8aad9c5028a65b7edf1ec2a2a2f80</td>\n",
       "      <td></td>\n",
       "      <td>Kristiania</td>\n",
       "      <td>19220101</td>\n",
       "      <td>1922</td>\n",
       "      <td>Gyldendal</td>\n",
       "      <td>nob</td>\n",
       "      <td></td>\n",
       "      <td></td>\n",
       "      <td></td>\n",
       "      <td>Uklassifisert</td>\n",
       "      <td>digibok</td>\n",
       "    </tr>\n",
       "    <tr>\n",
       "      <th>3</th>\n",
       "      <td>URN:NBN:no-nb_digibok_2008040300060</td>\n",
       "      <td>Salmonsens Konversationsleksikon. B. 9 : Friel...</td>\n",
       "      <td>Blangstrup , Chr.</td>\n",
       "      <td>oai:nb.bibsys.no:999203609714702202</td>\n",
       "      <td>a75aa349bc931759f0b29eb53440b7f8</td>\n",
       "      <td></td>\n",
       "      <td>København</td>\n",
       "      <td>19200101</td>\n",
       "      <td>1920</td>\n",
       "      <td>Schultz</td>\n",
       "      <td>dan</td>\n",
       "      <td>Leksika / generelle / skrifter / konversasjons...</td>\n",
       "      <td>038.81</td>\n",
       "      <td></td>\n",
       "      <td>Uklassifisert</td>\n",
       "      <td>digibok</td>\n",
       "    </tr>\n",
       "    <tr>\n",
       "      <th>4</th>\n",
       "      <td>URN:NBN:no-nb_digibok_2006082400067</td>\n",
       "      <td>Gjennem Kaukasus til Volga</td>\n",
       "      <td>Nansen , Fridtjof</td>\n",
       "      <td>oai:nb.bibsys.no:999603051654702202</td>\n",
       "      <td>c1447c5a04d3aaa1cf365f63e248da07</td>\n",
       "      <td></td>\n",
       "      <td></td>\n",
       "      <td>19290101</td>\n",
       "      <td>1929</td>\n",
       "      <td>Dybwad</td>\n",
       "      <td>nob</td>\n",
       "      <td>Reiseskildringer / Reiseskildringer</td>\n",
       "      <td></td>\n",
       "      <td></td>\n",
       "      <td>Uklassifisert</td>\n",
       "      <td>digibok</td>\n",
       "    </tr>\n",
       "    <tr>\n",
       "      <th>5</th>\n",
       "      <td>URN:NBN:no-nb_digibok_2013070408051</td>\n",
       "      <td>Ditlev Ahlefeldts Erindringer : 1617-1660</td>\n",
       "      <td>Ahlefeldt , Ditlev</td>\n",
       "      <td>oai:nb.bibsys.no:999423089644702202</td>\n",
       "      <td>c61b48963e6415a994acc1bc58f2b5bb</td>\n",
       "      <td></td>\n",
       "      <td>København</td>\n",
       "      <td>19220101</td>\n",
       "      <td>1922</td>\n",
       "      <td>Koppel</td>\n",
       "      <td>dan</td>\n",
       "      <td></td>\n",
       "      <td></td>\n",
       "      <td></td>\n",
       "      <td>Uklassifisert</td>\n",
       "      <td>digibok</td>\n",
       "    </tr>\n",
       "    <tr>\n",
       "      <th>6</th>\n",
       "      <td>URN:NBN:no-nb_digibok_2014121708109</td>\n",
       "      <td>Lov om forsikringsavtaler av 6. juni 1930 : me...</td>\n",
       "      <td>Bugge , Nicolay L.</td>\n",
       "      <td>oai:nb.bibsys.no:998121481854702202</td>\n",
       "      <td>79b8733aaf4e5f623120b79485ebd336</td>\n",
       "      <td></td>\n",
       "      <td>Oslo</td>\n",
       "      <td>19300101</td>\n",
       "      <td>1930</td>\n",
       "      <td>Aschehoug</td>\n",
       "      <td>nob</td>\n",
       "      <td>forsikringsavtalelover / kommentarer / norge</td>\n",
       "      <td></td>\n",
       "      <td></td>\n",
       "      <td>Uklassifisert</td>\n",
       "      <td>digibok</td>\n",
       "    </tr>\n",
       "    <tr>\n",
       "      <th>7</th>\n",
       "      <td>URN:NBN:no-nb_digibok_2007121910007</td>\n",
       "      <td>Gesandten : drama i 4 akter</td>\n",
       "      <td>Aall , Herman Harris</td>\n",
       "      <td>oai:nb.bibsys.no:990504319354702202</td>\n",
       "      <td>15ca33af147a3a63f65d570ba8b10b18</td>\n",
       "      <td></td>\n",
       "      <td>Stockholm</td>\n",
       "      <td>19200101</td>\n",
       "      <td>1920</td>\n",
       "      <td>Chelius</td>\n",
       "      <td>swe</td>\n",
       "      <td></td>\n",
       "      <td></td>\n",
       "      <td></td>\n",
       "      <td>Uklassifisert</td>\n",
       "      <td>digibok</td>\n",
       "    </tr>\n",
       "    <tr>\n",
       "      <th>8</th>\n",
       "      <td>URN:NBN:no-nb_digibok_2017112048044</td>\n",
       "      <td>Die Kristallstruktur der wasserfreien Alaune R...</td>\n",
       "      <td>Vegard , L. / Maurstad , Alf</td>\n",
       "      <td>oai:nb.bibsys.no:999720241074702202</td>\n",
       "      <td>4d56978f1217f2db418a137777177c0a</td>\n",
       "      <td></td>\n",
       "      <td>Oslo</td>\n",
       "      <td>19280101</td>\n",
       "      <td>1928</td>\n",
       "      <td>I kommisjon hos Dybwad</td>\n",
       "      <td>ger</td>\n",
       "      <td></td>\n",
       "      <td></td>\n",
       "      <td></td>\n",
       "      <td>Uklassifisert</td>\n",
       "      <td>digibok</td>\n",
       "    </tr>\n",
       "    <tr>\n",
       "      <th>9</th>\n",
       "      <td>URN:NBN:no-nb_digibok_2010062106078</td>\n",
       "      <td>Vor gudstjeneste efter den nye alterbok</td>\n",
       "      <td>Jensen , S. Bretteville (Sigurd)</td>\n",
       "      <td>oai:nb.bibsys.no:999722125664702202</td>\n",
       "      <td>db96b426a7040a6b47aa02d58da15318</td>\n",
       "      <td></td>\n",
       "      <td></td>\n",
       "      <td>19200101</td>\n",
       "      <td>1920</td>\n",
       "      <td>Luthersk bokmission</td>\n",
       "      <td>nob</td>\n",
       "      <td>Liturgi / Teologi / alterbøker / norske / kirk...</td>\n",
       "      <td></td>\n",
       "      <td></td>\n",
       "      <td>Uklassifisert</td>\n",
       "      <td>digibok</td>\n",
       "    </tr>\n",
       "  </tbody>\n",
       "</table>\n",
       "</div>"
      ],
      "text/plain": [
       "                                   urn  \\\n",
       "0  URN:NBN:no-nb_digibok_2014101506007   \n",
       "1  URN:NBN:no-nb_digibok_2016012548121   \n",
       "2  URN:NBN:no-nb_digibok_2010110806068   \n",
       "3  URN:NBN:no-nb_digibok_2008040300060   \n",
       "4  URN:NBN:no-nb_digibok_2006082400067   \n",
       "5  URN:NBN:no-nb_digibok_2013070408051   \n",
       "6  URN:NBN:no-nb_digibok_2014121708109   \n",
       "7  URN:NBN:no-nb_digibok_2007121910007   \n",
       "8  URN:NBN:no-nb_digibok_2017112048044   \n",
       "9  URN:NBN:no-nb_digibok_2010062106078   \n",
       "\n",
       "                                               title  \\\n",
       "0                                 Flukten til Island   \n",
       "1                         Udvalgte romancer og sange   \n",
       "2                                           Odysseen   \n",
       "3  Salmonsens Konversationsleksikon. B. 9 : Friel...   \n",
       "4                         Gjennem Kaukasus til Volga   \n",
       "5          Ditlev Ahlefeldts Erindringer : 1617-1660   \n",
       "6  Lov om forsikringsavtaler av 6. juni 1930 : me...   \n",
       "7                        Gesandten : drama i 4 akter   \n",
       "8  Die Kristallstruktur der wasserfreien Alaune R...   \n",
       "9            Vor gudstjeneste efter den nye alterbok   \n",
       "\n",
       "                            authors                                oaiid  \\\n",
       "0                  Engelstad , Arne  oai:nb.bibsys.no:999523623094702202   \n",
       "1                 Kjerulf , Halfdan  oai:nb.bibsys.no:991507527254702202   \n",
       "2     Homerus / Østbye , P. (Peter)  oai:nb.bibsys.no:990309816704702202   \n",
       "3                 Blangstrup , Chr.  oai:nb.bibsys.no:999203609714702202   \n",
       "4                 Nansen , Fridtjof  oai:nb.bibsys.no:999603051654702202   \n",
       "5                Ahlefeldt , Ditlev  oai:nb.bibsys.no:999423089644702202   \n",
       "6                Bugge , Nicolay L.  oai:nb.bibsys.no:998121481854702202   \n",
       "7              Aall , Herman Harris  oai:nb.bibsys.no:990504319354702202   \n",
       "8      Vegard , L. / Maurstad , Alf  oai:nb.bibsys.no:999720241074702202   \n",
       "9  Jensen , S. Bretteville (Sigurd)  oai:nb.bibsys.no:999722125664702202   \n",
       "\n",
       "                            sesamid isbn10        city timestamp  year  \\\n",
       "0  a98620ec3a5304fa1bf51841bc9a7876               Oslo  19250101  1925   \n",
       "1  21b975750ac682c0d735af8cbe6a5d55            Leipzig  19280101  1928   \n",
       "2  25d8aad9c5028a65b7edf1ec2a2a2f80         Kristiania  19220101  1922   \n",
       "3  a75aa349bc931759f0b29eb53440b7f8          København  19200101  1920   \n",
       "4  c1447c5a04d3aaa1cf365f63e248da07                     19290101  1929   \n",
       "5  c61b48963e6415a994acc1bc58f2b5bb          København  19220101  1922   \n",
       "6  79b8733aaf4e5f623120b79485ebd336               Oslo  19300101  1930   \n",
       "7  15ca33af147a3a63f65d570ba8b10b18          Stockholm  19200101  1920   \n",
       "8  4d56978f1217f2db418a137777177c0a               Oslo  19280101  1928   \n",
       "9  db96b426a7040a6b47aa02d58da15318                     19200101  1920   \n",
       "\n",
       "                publisher langs  \\\n",
       "0                Grøndahl   nob   \n",
       "1            Brandstetter   nob   \n",
       "2               Gyldendal   nob   \n",
       "3                 Schultz   dan   \n",
       "4                  Dybwad   nob   \n",
       "5                  Koppel   dan   \n",
       "6               Aschehoug   nob   \n",
       "7                 Chelius   swe   \n",
       "8  I kommisjon hos Dybwad   ger   \n",
       "9     Luthersk bokmission   nob   \n",
       "\n",
       "                                            subjects      ddc genres  \\\n",
       "0                                                              novel   \n",
       "1                                  sanger / romanser  783.242          \n",
       "2                                                                      \n",
       "3  Leksika / generelle / skrifter / konversasjons...   038.81          \n",
       "4                Reiseskildringer / Reiseskildringer                   \n",
       "5                                                                      \n",
       "6       forsikringsavtalelover / kommentarer / norge                   \n",
       "7                                                                      \n",
       "8                                                                      \n",
       "9  Liturgi / Teologi / alterbøker / norske / kirk...                   \n",
       "\n",
       "       literaryform  doctype  \n",
       "0  Skjønnlitteratur  digibok  \n",
       "1     Uklassifisert  digibok  \n",
       "2     Uklassifisert  digibok  \n",
       "3     Uklassifisert  digibok  \n",
       "4     Uklassifisert  digibok  \n",
       "5     Uklassifisert  digibok  \n",
       "6     Uklassifisert  digibok  \n",
       "7     Uklassifisert  digibok  \n",
       "8     Uklassifisert  digibok  \n",
       "9     Uklassifisert  digibok  "
      ]
     },
     "execution_count": 60,
     "metadata": {},
     "output_type": "execute_result"
    }
   ],
   "source": [
    "pd.DataFrame(get_metadata(urns = urns[:10]))"
   ]
  },
  {
   "cell_type": "code",
   "execution_count": 13,
   "metadata": {},
   "outputs": [],
   "source": [
    "def konk(urns=None, word=None, before=5, after=5, only_urn=True):\n",
    "    params = locals()\n",
    "    #print(params)\n",
    "    r = requests.post(\"https://api.nb.no/ngram/urnkonk\", json = params)\n",
    "    return r.json()\n",
    "\n",
    "def meta_natbib(children = False, yearfrom = \"\", yearto = \"\", lang = None, author = None, title = None, subtitle = None, publisher = None, subject = None, topic = None, marctuples = None, limit=20):\n",
    "    params = locals()\n",
    "    #print(params)\n",
    "    r = requests.post(\"https://api.nb.no/ngram/get_urns\", json = params)\n",
    "    return r.json()\n",
    "\n",
    "def metadata(urns=None, marctuples = [(100,1,' ', 'a'),(260, ' ',' ', 'c'), (245,1,3,'a'),(245,1,0,'a'),(245,1,3,'b'),(245,1,0,'b'), (650,7,' ','a'), (653,' ',' ','a')]):\n",
    "    params = locals()\n",
    "    #print(params)\n",
    "    r = requests.post(\"https://api.nb.no/ngram/metadata\", json=params)\n",
    "    return r.json()"
   ]
  },
  {
   "cell_type": "code",
   "execution_count": 14,
   "metadata": {},
   "outputs": [],
   "source": [
    "def document_corpus(doctype = None, author = None, freetext = None, from_year = None, to_year = None, from_timestamp = None, to_timestamp = None, title = None, ddk = None, subject = None, lang = None, limit = None):\n",
    "    \"\"\" Fetch a corpus based on metadata - doctypes are digibok, digavis, digitidsskrift\"\"\"\n",
    "    \n",
    "    parms = locals()\n",
    "    params = {x:parms[x] for x in parms if not parms[x] is None }\n",
    "    if \"ddk\" in params:\n",
    "        params[\"ddk\"]  = \"^\" + params['ddk'].replace('.', '\".\"')\n",
    "        \n",
    "    r=requests.post(BASE_URL + \"/build_corpus\", json=params)\n",
    "    \n",
    "    return pd.DataFrame(r.json())"
   ]
  },
  {
   "cell_type": "code",
   "execution_count": 15,
   "metadata": {},
   "outputs": [],
   "source": [
    "c = document_corpus(freetext=\"hamsun\")"
   ]
  },
  {
   "cell_type": "code",
   "execution_count": 25,
   "metadata": {},
   "outputs": [],
   "source": [
    "def frequencies(urns = None, cutoff = 0, words = None):\n",
    "    params = locals()\n",
    "    print(params)\n",
    "    r = requests.post(BASE_URL1 + \"/frequencies\", json = params)\n",
    "    result = r.json()\n",
    "    structure = {u[0][0] : dict([tuple(x[1:]) for x in u]) for u in result if u != []}\n",
    "    return structure"
   ]
  },
  {
   "cell_type": "code",
   "execution_count": 17,
   "metadata": {},
   "outputs": [],
   "source": [
    "def find_urns(docids = None):\n",
    "    params = locals()\n",
    "    r = requests.post(BASE_URL1 + \"/find_urn\", json = params)\n",
    "    return r.json()"
   ]
  },
  {
   "cell_type": "code",
   "execution_count": 31,
   "metadata": {},
   "outputs": [],
   "source": [
    "def get_reference(corpus = 'digavis', from_year = 1950, to_year = 1955, lang = 'nob', limit = 100000):\n",
    "    params = locals()\n",
    "    r = requests.get(BASE_URL + \"/reference_corpus\", params = params)\n",
    "    if r.status_code == 200:\n",
    "        result = r.json()\n",
    "    else:\n",
    "        result = []\n",
    "    return pd.DataFrame(result, columns = ['word', 'freq']).set_index('word')"
   ]
  },
  {
   "cell_type": "code",
   "execution_count": 26,
   "metadata": {},
   "outputs": [
    {
     "name": "stdout",
     "output_type": "stream",
     "text": [
      "{'urns': ['URN:NBN:no-nb_digibok_2007082001024', 'URN:NBN:no-nb_digibok_2015012708298', 'URN:NBN:no-nb_digibok_2013071908027', 'URN:NBN:no-nb_digibok_2015102208046', 'URN:NBN:no-nb_digibok_2018042509509', 'URN:NBN:no-nb_digibok_2008051504035', 'URN:NBN:no-nb_digibok_2015072108261', 'URN:NBN:no-nb_digibok_2009011504011', 'URN:NBN:no-nb_digibok_2012091808258', 'URN:NBN:no-nb_digibok_2008121704075'], 'cutoff': 0, 'words': None}\n"
     ]
    },
    {
     "ename": "JSONDecodeError",
     "evalue": "Expecting value: line 1 column 1 (char 0)",
     "output_type": "error",
     "traceback": [
      "\u001b[1;31m---------------------------------------------------------------------------\u001b[0m",
      "\u001b[1;31mJSONDecodeError\u001b[0m                           Traceback (most recent call last)",
      "\u001b[1;32m<ipython-input-26-afad1300aadd>\u001b[0m in \u001b[0;36m<module>\u001b[1;34m\u001b[0m\n\u001b[1;32m----> 1\u001b[1;33m \u001b[0mfrequencies\u001b[0m\u001b[1;33m(\u001b[0m\u001b[0mlist\u001b[0m\u001b[1;33m(\u001b[0m\u001b[0mc\u001b[0m\u001b[1;33m.\u001b[0m\u001b[0murn\u001b[0m\u001b[1;33m)\u001b[0m\u001b[1;33m)\u001b[0m\u001b[1;33m\u001b[0m\u001b[1;33m\u001b[0m\u001b[0m\n\u001b[0m",
      "\u001b[1;32m<ipython-input-25-ee202c61a7af>\u001b[0m in \u001b[0;36mfrequencies\u001b[1;34m(urns, cutoff, words)\u001b[0m\n\u001b[0;32m      3\u001b[0m     \u001b[0mprint\u001b[0m\u001b[1;33m(\u001b[0m\u001b[0mparams\u001b[0m\u001b[1;33m)\u001b[0m\u001b[1;33m\u001b[0m\u001b[1;33m\u001b[0m\u001b[0m\n\u001b[0;32m      4\u001b[0m     \u001b[0mr\u001b[0m \u001b[1;33m=\u001b[0m \u001b[0mrequests\u001b[0m\u001b[1;33m.\u001b[0m\u001b[0mpost\u001b[0m\u001b[1;33m(\u001b[0m\u001b[0mBASE_URL1\u001b[0m \u001b[1;33m+\u001b[0m \u001b[1;34m\"/frequencies\"\u001b[0m\u001b[1;33m,\u001b[0m \u001b[0mjson\u001b[0m \u001b[1;33m=\u001b[0m \u001b[0mparams\u001b[0m\u001b[1;33m)\u001b[0m\u001b[1;33m\u001b[0m\u001b[1;33m\u001b[0m\u001b[0m\n\u001b[1;32m----> 5\u001b[1;33m     \u001b[0mresult\u001b[0m \u001b[1;33m=\u001b[0m \u001b[0mr\u001b[0m\u001b[1;33m.\u001b[0m\u001b[0mjson\u001b[0m\u001b[1;33m(\u001b[0m\u001b[1;33m)\u001b[0m\u001b[1;33m\u001b[0m\u001b[1;33m\u001b[0m\u001b[0m\n\u001b[0m\u001b[0;32m      6\u001b[0m     \u001b[0mstructure\u001b[0m \u001b[1;33m=\u001b[0m \u001b[1;33m{\u001b[0m\u001b[0mu\u001b[0m\u001b[1;33m[\u001b[0m\u001b[1;36m0\u001b[0m\u001b[1;33m]\u001b[0m\u001b[1;33m[\u001b[0m\u001b[1;36m0\u001b[0m\u001b[1;33m]\u001b[0m \u001b[1;33m:\u001b[0m \u001b[0mdict\u001b[0m\u001b[1;33m(\u001b[0m\u001b[1;33m[\u001b[0m\u001b[0mtuple\u001b[0m\u001b[1;33m(\u001b[0m\u001b[0mx\u001b[0m\u001b[1;33m[\u001b[0m\u001b[1;36m1\u001b[0m\u001b[1;33m:\u001b[0m\u001b[1;33m]\u001b[0m\u001b[1;33m)\u001b[0m \u001b[1;32mfor\u001b[0m \u001b[0mx\u001b[0m \u001b[1;32min\u001b[0m \u001b[0mu\u001b[0m\u001b[1;33m]\u001b[0m\u001b[1;33m)\u001b[0m \u001b[1;32mfor\u001b[0m \u001b[0mu\u001b[0m \u001b[1;32min\u001b[0m \u001b[0mresult\u001b[0m \u001b[1;32mif\u001b[0m \u001b[0mu\u001b[0m \u001b[1;33m!=\u001b[0m \u001b[1;33m[\u001b[0m\u001b[1;33m]\u001b[0m\u001b[1;33m}\u001b[0m\u001b[1;33m\u001b[0m\u001b[1;33m\u001b[0m\u001b[0m\n\u001b[0;32m      7\u001b[0m     \u001b[1;32mreturn\u001b[0m \u001b[0mstructure\u001b[0m\u001b[1;33m\u001b[0m\u001b[1;33m\u001b[0m\u001b[0m\n",
      "\u001b[1;32mD:\\Anaconda3\\lib\\site-packages\\requests\\models.py\u001b[0m in \u001b[0;36mjson\u001b[1;34m(self, **kwargs)\u001b[0m\n\u001b[0;32m    895\u001b[0m                     \u001b[1;31m# used.\u001b[0m\u001b[1;33m\u001b[0m\u001b[1;33m\u001b[0m\u001b[1;33m\u001b[0m\u001b[0m\n\u001b[0;32m    896\u001b[0m                     \u001b[1;32mpass\u001b[0m\u001b[1;33m\u001b[0m\u001b[1;33m\u001b[0m\u001b[0m\n\u001b[1;32m--> 897\u001b[1;33m         \u001b[1;32mreturn\u001b[0m \u001b[0mcomplexjson\u001b[0m\u001b[1;33m.\u001b[0m\u001b[0mloads\u001b[0m\u001b[1;33m(\u001b[0m\u001b[0mself\u001b[0m\u001b[1;33m.\u001b[0m\u001b[0mtext\u001b[0m\u001b[1;33m,\u001b[0m \u001b[1;33m**\u001b[0m\u001b[0mkwargs\u001b[0m\u001b[1;33m)\u001b[0m\u001b[1;33m\u001b[0m\u001b[1;33m\u001b[0m\u001b[0m\n\u001b[0m\u001b[0;32m    898\u001b[0m \u001b[1;33m\u001b[0m\u001b[0m\n\u001b[0;32m    899\u001b[0m     \u001b[1;33m@\u001b[0m\u001b[0mproperty\u001b[0m\u001b[1;33m\u001b[0m\u001b[1;33m\u001b[0m\u001b[0m\n",
      "\u001b[1;32mD:\\Anaconda3\\lib\\json\\__init__.py\u001b[0m in \u001b[0;36mloads\u001b[1;34m(s, encoding, cls, object_hook, parse_float, parse_int, parse_constant, object_pairs_hook, **kw)\u001b[0m\n\u001b[0;32m    346\u001b[0m             \u001b[0mparse_int\u001b[0m \u001b[1;32mis\u001b[0m \u001b[1;32mNone\u001b[0m \u001b[1;32mand\u001b[0m \u001b[0mparse_float\u001b[0m \u001b[1;32mis\u001b[0m \u001b[1;32mNone\u001b[0m \u001b[1;32mand\u001b[0m\u001b[1;33m\u001b[0m\u001b[1;33m\u001b[0m\u001b[0m\n\u001b[0;32m    347\u001b[0m             parse_constant is None and object_pairs_hook is None and not kw):\n\u001b[1;32m--> 348\u001b[1;33m         \u001b[1;32mreturn\u001b[0m \u001b[0m_default_decoder\u001b[0m\u001b[1;33m.\u001b[0m\u001b[0mdecode\u001b[0m\u001b[1;33m(\u001b[0m\u001b[0ms\u001b[0m\u001b[1;33m)\u001b[0m\u001b[1;33m\u001b[0m\u001b[1;33m\u001b[0m\u001b[0m\n\u001b[0m\u001b[0;32m    349\u001b[0m     \u001b[1;32mif\u001b[0m \u001b[0mcls\u001b[0m \u001b[1;32mis\u001b[0m \u001b[1;32mNone\u001b[0m\u001b[1;33m:\u001b[0m\u001b[1;33m\u001b[0m\u001b[1;33m\u001b[0m\u001b[0m\n\u001b[0;32m    350\u001b[0m         \u001b[0mcls\u001b[0m \u001b[1;33m=\u001b[0m \u001b[0mJSONDecoder\u001b[0m\u001b[1;33m\u001b[0m\u001b[1;33m\u001b[0m\u001b[0m\n",
      "\u001b[1;32mD:\\Anaconda3\\lib\\json\\decoder.py\u001b[0m in \u001b[0;36mdecode\u001b[1;34m(self, s, _w)\u001b[0m\n\u001b[0;32m    335\u001b[0m \u001b[1;33m\u001b[0m\u001b[0m\n\u001b[0;32m    336\u001b[0m         \"\"\"\n\u001b[1;32m--> 337\u001b[1;33m         \u001b[0mobj\u001b[0m\u001b[1;33m,\u001b[0m \u001b[0mend\u001b[0m \u001b[1;33m=\u001b[0m \u001b[0mself\u001b[0m\u001b[1;33m.\u001b[0m\u001b[0mraw_decode\u001b[0m\u001b[1;33m(\u001b[0m\u001b[0ms\u001b[0m\u001b[1;33m,\u001b[0m \u001b[0midx\u001b[0m\u001b[1;33m=\u001b[0m\u001b[0m_w\u001b[0m\u001b[1;33m(\u001b[0m\u001b[0ms\u001b[0m\u001b[1;33m,\u001b[0m \u001b[1;36m0\u001b[0m\u001b[1;33m)\u001b[0m\u001b[1;33m.\u001b[0m\u001b[0mend\u001b[0m\u001b[1;33m(\u001b[0m\u001b[1;33m)\u001b[0m\u001b[1;33m)\u001b[0m\u001b[1;33m\u001b[0m\u001b[1;33m\u001b[0m\u001b[0m\n\u001b[0m\u001b[0;32m    338\u001b[0m         \u001b[0mend\u001b[0m \u001b[1;33m=\u001b[0m \u001b[0m_w\u001b[0m\u001b[1;33m(\u001b[0m\u001b[0ms\u001b[0m\u001b[1;33m,\u001b[0m \u001b[0mend\u001b[0m\u001b[1;33m)\u001b[0m\u001b[1;33m.\u001b[0m\u001b[0mend\u001b[0m\u001b[1;33m(\u001b[0m\u001b[1;33m)\u001b[0m\u001b[1;33m\u001b[0m\u001b[1;33m\u001b[0m\u001b[0m\n\u001b[0;32m    339\u001b[0m         \u001b[1;32mif\u001b[0m \u001b[0mend\u001b[0m \u001b[1;33m!=\u001b[0m \u001b[0mlen\u001b[0m\u001b[1;33m(\u001b[0m\u001b[0ms\u001b[0m\u001b[1;33m)\u001b[0m\u001b[1;33m:\u001b[0m\u001b[1;33m\u001b[0m\u001b[1;33m\u001b[0m\u001b[0m\n",
      "\u001b[1;32mD:\\Anaconda3\\lib\\json\\decoder.py\u001b[0m in \u001b[0;36mraw_decode\u001b[1;34m(self, s, idx)\u001b[0m\n\u001b[0;32m    353\u001b[0m             \u001b[0mobj\u001b[0m\u001b[1;33m,\u001b[0m \u001b[0mend\u001b[0m \u001b[1;33m=\u001b[0m \u001b[0mself\u001b[0m\u001b[1;33m.\u001b[0m\u001b[0mscan_once\u001b[0m\u001b[1;33m(\u001b[0m\u001b[0ms\u001b[0m\u001b[1;33m,\u001b[0m \u001b[0midx\u001b[0m\u001b[1;33m)\u001b[0m\u001b[1;33m\u001b[0m\u001b[1;33m\u001b[0m\u001b[0m\n\u001b[0;32m    354\u001b[0m         \u001b[1;32mexcept\u001b[0m \u001b[0mStopIteration\u001b[0m \u001b[1;32mas\u001b[0m \u001b[0merr\u001b[0m\u001b[1;33m:\u001b[0m\u001b[1;33m\u001b[0m\u001b[1;33m\u001b[0m\u001b[0m\n\u001b[1;32m--> 355\u001b[1;33m             \u001b[1;32mraise\u001b[0m \u001b[0mJSONDecodeError\u001b[0m\u001b[1;33m(\u001b[0m\u001b[1;34m\"Expecting value\"\u001b[0m\u001b[1;33m,\u001b[0m \u001b[0ms\u001b[0m\u001b[1;33m,\u001b[0m \u001b[0merr\u001b[0m\u001b[1;33m.\u001b[0m\u001b[0mvalue\u001b[0m\u001b[1;33m)\u001b[0m \u001b[1;32mfrom\u001b[0m \u001b[1;32mNone\u001b[0m\u001b[1;33m\u001b[0m\u001b[1;33m\u001b[0m\u001b[0m\n\u001b[0m\u001b[0;32m    356\u001b[0m         \u001b[1;32mreturn\u001b[0m \u001b[0mobj\u001b[0m\u001b[1;33m,\u001b[0m \u001b[0mend\u001b[0m\u001b[1;33m\u001b[0m\u001b[1;33m\u001b[0m\u001b[0m\n",
      "\u001b[1;31mJSONDecodeError\u001b[0m: Expecting value: line 1 column 1 (char 0)"
     ]
    }
   ],
   "source": [
    "frequencies(list(c.urn))"
   ]
  },
  {
   "cell_type": "code",
   "execution_count": 19,
   "metadata": {
    "collapsed": true,
    "jupyter": {
     "outputs_hidden": true
    }
   },
   "outputs": [
    {
     "ename": "NameError",
     "evalue": "name 'get_reference' is not defined",
     "output_type": "error",
     "traceback": [
      "\u001b[1;31m---------------------------------------------------------------------------\u001b[0m",
      "\u001b[1;31mNameError\u001b[0m                                 Traceback (most recent call last)",
      "\u001b[1;32m<ipython-input-19-0bbd7ea1c5f4>\u001b[0m in \u001b[0;36m<module>\u001b[1;34m\u001b[0m\n\u001b[1;32m----> 1\u001b[1;33m \u001b[0mget_reference\u001b[0m\u001b[1;33m(\u001b[0m\u001b[0mlimit\u001b[0m \u001b[1;33m=\u001b[0m \u001b[1;36m100000\u001b[0m\u001b[1;33m)\u001b[0m\u001b[1;33m\u001b[0m\u001b[1;33m\u001b[0m\u001b[0m\n\u001b[0m",
      "\u001b[1;31mNameError\u001b[0m: name 'get_reference' is not defined"
     ]
    }
   ],
   "source": [
    "get_reference(limit = 100000)"
   ]
  },
  {
   "cell_type": "code",
   "execution_count": null,
   "metadata": {},
   "outputs": [],
   "source": []
  },
  {
   "cell_type": "code",
   "execution_count": 20,
   "metadata": {},
   "outputs": [],
   "source": [
    "import dhlab_v2 as d2"
   ]
  },
  {
   "cell_type": "code",
   "execution_count": 21,
   "metadata": {},
   "outputs": [],
   "source": [
    "urns = list(d2.document_corpus(from_year = 2000, to_year = 2002, limit = 10).urn)"
   ]
  },
  {
   "cell_type": "code",
   "execution_count": 31,
   "metadata": {},
   "outputs": [
    {
     "name": "stdout",
     "output_type": "stream",
     "text": [
      "{'urns': ['URN:NBN:no-nb_digavis_ostlandsposten_null_null_20010317_120_65_1', 'URN:NBN:no-nb_digavis_fremover_null_null_20020205_100_31_1', 'URN:NBN:no-nb_digibok_2017030348111', 'URN:NBN:no-nb_digavis_verdensgang_null_null_20020121_1_20_1', 'URN:NBN:no-nb_digitidsskrift_2018101981128_001', 'URN:NBN:no-nb_digitidsskrift_2020012781428_001', 'URN:NBN:no-nb_digibok_2009020404097', 'URN:NBN:no-nb_digibok_2015112508222', 'URN:NBN:no-nb_digavis_jaerbladet_null_null_20000616_52_67_1', 'URN:NBN:no-nb_digavis_gjengangeren_null_null_20011227_151_299_1'], 'cutoff': 100, 'words': ['spise', 'sover', 'skrive', '.']}\n"
     ]
    }
   ],
   "source": [
    "result = frequencies(urns = urns, cutoff = 100, words = \"spise sover skrive .\".split())"
   ]
  },
  {
   "cell_type": "code",
   "execution_count": 32,
   "metadata": {},
   "outputs": [
    {
     "data": {
      "text/plain": [
       "{'URN:NBN:no-nb_digitidsskrift_2020012781428_001': {'.': 1280,\n",
       "  'skrive': 4,\n",
       "  'sover': 1},\n",
       " 'URN:NBN:no-nb_digavis_fremover_null_null_20020205_100_31_1': {'.': 2681,\n",
       "  'spise': 1},\n",
       " 'URN:NBN:no-nb_digavis_verdensgang_null_null_20020121_1_20_1': {'.': 2994,\n",
       "  'skrive': 7,\n",
       "  'sover': 3},\n",
       " 'URN:NBN:no-nb_digibok_2009020404097': {'.': 1118},\n",
       " 'URN:NBN:no-nb_digibok_2015112508222': {'.': 2373, 'skrive': 21, 'spise': 2},\n",
       " 'URN:NBN:no-nb_digibok_2017030348111': {'.': 2},\n",
       " 'URN:NBN:no-nb_digavis_ostlandsposten_null_null_20010317_120_65_1': {'.': 5015,\n",
       "  'skrive': 1,\n",
       "  'sover': 2,\n",
       "  'spise': 1},\n",
       " 'URN:NBN:no-nb_digavis_gjengangeren_null_null_20011227_151_299_1': {'.': 1617,\n",
       "  'sover': 1},\n",
       " 'URN:NBN:no-nb_digitidsskrift_2018101981128_001': {'.': 2653, 'skrive': 6},\n",
       " 'URN:NBN:no-nb_digavis_jaerbladet_null_null_20000616_52_67_1': {'.': 4336,\n",
       "  'skrive': 8,\n",
       "  'sover': 6,\n",
       "  'spise': 1}}"
      ]
     },
     "execution_count": 32,
     "metadata": {},
     "output_type": "execute_result"
    }
   ],
   "source": [
    "result"
   ]
  },
  {
   "cell_type": "code",
   "execution_count": 15,
   "metadata": {},
   "outputs": [],
   "source": [
    "df = pd.DataFrame(result)"
   ]
  },
  {
   "cell_type": "code",
   "execution_count": 24,
   "metadata": {},
   "outputs": [],
   "source": [
    "fu = find_urns(docids = list(df.columns))"
   ]
  },
  {
   "cell_type": "code",
   "execution_count": 28,
   "metadata": {},
   "outputs": [
    {
     "data": {
      "text/html": [
       "<div>\n",
       "<style scoped>\n",
       "    .dataframe tbody tr th:only-of-type {\n",
       "        vertical-align: middle;\n",
       "    }\n",
       "\n",
       "    .dataframe tbody tr th {\n",
       "        vertical-align: top;\n",
       "    }\n",
       "\n",
       "    .dataframe thead th {\n",
       "        text-align: right;\n",
       "    }\n",
       "</style>\n",
       "<table border=\"1\" class=\"dataframe\">\n",
       "  <thead>\n",
       "    <tr style=\"text-align: right;\">\n",
       "      <th></th>\n",
       "      <th>urn</th>\n",
       "    </tr>\n",
       "  </thead>\n",
       "  <tbody>\n",
       "    <tr>\n",
       "      <th>200135263</th>\n",
       "      <td>URN:NBN:no-nb_digavis_arbeidetsrett_null_null_...</td>\n",
       "    </tr>\n",
       "    <tr>\n",
       "      <th>200382347</th>\n",
       "      <td>URN:NBN:no-nb_digavis_dagsavisen_null_null_200...</td>\n",
       "    </tr>\n",
       "    <tr>\n",
       "      <th>200553644</th>\n",
       "      <td>URN:NBN:no-nb_digavis_fiskeribladet_null_null_...</td>\n",
       "    </tr>\n",
       "    <tr>\n",
       "      <th>200769595</th>\n",
       "      <td>URN:NBN:no-nb_digavis_harstadtidende_null_null...</td>\n",
       "    </tr>\n",
       "    <tr>\n",
       "      <th>201457838</th>\n",
       "      <td>URN:NBN:no-nb_digavis_romerikesblad_null_null_...</td>\n",
       "    </tr>\n",
       "    <tr>\n",
       "      <th>201568584</th>\n",
       "      <td>URN:NBN:no-nb_digavis_sognavis_null_null_20010...</td>\n",
       "    </tr>\n",
       "    <tr>\n",
       "      <th>201752010</th>\n",
       "      <td>URN:NBN:no-nb_digavis_tromsfolkeblad_null_null...</td>\n",
       "    </tr>\n",
       "    <tr>\n",
       "      <th>201824775</th>\n",
       "      <td>URN:NBN:no-nb_digavis_ullensakerblad_null_null...</td>\n",
       "    </tr>\n",
       "    <tr>\n",
       "      <th>202574785</th>\n",
       "      <td>URN:NBN:no-nb_digavis_nordhordland_null_null_2...</td>\n",
       "    </tr>\n",
       "    <tr>\n",
       "      <th>300065604</th>\n",
       "      <td>URN:NBN:no-nb_digitidsskrift_2021011981065_001</td>\n",
       "    </tr>\n",
       "  </tbody>\n",
       "</table>\n",
       "</div>"
      ],
      "text/plain": [
       "                                                         urn\n",
       "200135263  URN:NBN:no-nb_digavis_arbeidetsrett_null_null_...\n",
       "200382347  URN:NBN:no-nb_digavis_dagsavisen_null_null_200...\n",
       "200553644  URN:NBN:no-nb_digavis_fiskeribladet_null_null_...\n",
       "200769595  URN:NBN:no-nb_digavis_harstadtidende_null_null...\n",
       "201457838  URN:NBN:no-nb_digavis_romerikesblad_null_null_...\n",
       "201568584  URN:NBN:no-nb_digavis_sognavis_null_null_20010...\n",
       "201752010  URN:NBN:no-nb_digavis_tromsfolkeblad_null_null...\n",
       "201824775  URN:NBN:no-nb_digavis_ullensakerblad_null_null...\n",
       "202574785  URN:NBN:no-nb_digavis_nordhordland_null_null_2...\n",
       "300065604     URN:NBN:no-nb_digitidsskrift_2021011981065_001"
      ]
     },
     "execution_count": 28,
     "metadata": {},
     "output_type": "execute_result"
    }
   ],
   "source": [
    "pd.DataFrame.from_dict(fu, orient = 'index', columns = ['urn'])"
   ]
  },
  {
   "cell_type": "code",
   "execution_count": 79,
   "metadata": {},
   "outputs": [],
   "source": [
    "import dhlab.nbtext as nb"
   ]
  },
  {
   "cell_type": "code",
   "execution_count": 93,
   "metadata": {},
   "outputs": [],
   "source": [
    "t = nb.book_corpus(author='ibsen%', title='%dukke%', period=(1800, 2010))"
   ]
  },
  {
   "cell_type": "code",
   "execution_count": 95,
   "metadata": {},
   "outputs": [
    {
     "data": {
      "text/plain": [
       "[2011010609040,\n",
       " 2010031510001,\n",
       " 2010112608074,\n",
       " 2016031009565,\n",
       " 2009061000024,\n",
       " 2010082422025,\n",
       " 2011072908024,\n",
       " 2010083123001,\n",
       " 2015120808042,\n",
       " 2012091409046,\n",
       " 2012082309582,\n",
       " 2007082204013,\n",
       " 2013010808064,\n",
       " 2007091301037,\n",
       " 2008112000060,\n",
       " 2011040608127,\n",
       " 2012080709541,\n",
       " 2011082409020,\n",
       " 2011030820014,\n",
       " 2010083022002]"
      ]
     },
     "execution_count": 95,
     "metadata": {},
     "output_type": "execute_result"
    }
   ],
   "source": [
    "list(t.urn)"
   ]
  },
  {
   "cell_type": "code",
   "execution_count": 111,
   "metadata": {},
   "outputs": [
    {
     "data": {
      "text/plain": [
       "{'2007082204013': {'100-1- -a': 'Ibsen, Henrik',\n",
       "  '245-1-3-a': 'Et dukkehjem :',\n",
       "  'lang': 'nob',\n",
       "  'year': 1991},\n",
       " '2007091301037': {'100-1- -a': 'Ibsen, Henrik',\n",
       "  '245-1-3-a': 'Et dukkehjem',\n",
       "  'lang': 'nob',\n",
       "  'year': 1989},\n",
       " '2008112000060': {'100-1- -a': 'Ibsen, Henrik',\n",
       "  '245-1-3-a': 'Et dukkehjem',\n",
       "  'lang': 'nob',\n",
       "  'year': 2001},\n",
       " '2009061000024': [],\n",
       " '2010031510001': {'100-1- -a': 'Ibsen, Henrik',\n",
       "  '245-1-3-a': 'Et dukkehjem :',\n",
       "  'lang': 'nob',\n",
       "  'year': 1879},\n",
       " '2010082422025': [],\n",
       " '2010083022002': {'100-1- -a': 'Ibsen, Henrik',\n",
       "  '245-1-3-a': 'Et dukkehjem og fire andre skuespil',\n",
       "  'lang': 'nob',\n",
       "  'year': 2006},\n",
       " '2010083123001': {'100-1- -a': 'Ibsen, Henrik',\n",
       "  '245-1-3-a': 'Et dukkehjem ; Gengangere ; Vildanden',\n",
       "  'lang': 'nob',\n",
       "  'year': 1989},\n",
       " '2010112608074': {'100-1- -a': 'Ibsen, Henrik',\n",
       "  '245-1-3-a': 'Et dukkehjem',\n",
       "  'lang': 'nob',\n",
       "  'year': 1995},\n",
       " '2011010609040': {'100-1- -a': 'Ibsen, Henrik',\n",
       "  '245-1-3-a': 'Et dukkehjem :',\n",
       "  'lang': 'nob',\n",
       "  'year': 1995},\n",
       " '2011030820014': {'100-1- -a': 'Ibsen, Henrik',\n",
       "  '245-1-3-a': 'Et dukkehjem',\n",
       "  'lang': 'nob',\n",
       "  'year': 1950},\n",
       " '2011040608127': {'100-1- -a': 'Ibsen, Henrik',\n",
       "  '245-1-3-a': 'Et dukkehjem :',\n",
       "  'lang': 'nob',\n",
       "  'year': 2003},\n",
       " '2011072908024': {'100-1- -a': 'Ibsen, Henrik',\n",
       "  '245-1-3-a': 'Et dukkehjem',\n",
       "  'lang': 'nob',\n",
       "  'year': 2006},\n",
       " '2011082409020': {'100-1- -a': 'Ibsen, Henrik',\n",
       "  '245-1-3-a': 'Et dukkehjem',\n",
       "  'lang': 'nob',\n",
       "  'year': 2006},\n",
       " '2012080709541': {'100-1- -a': 'Ibsen, Henrik',\n",
       "  '245-1-3-a': 'Et dukkehjem',\n",
       "  'lang': 'nob',\n",
       "  'year': 2009},\n",
       " '2012082309582': {'100-1- -a': 'Ibsen, Henrik',\n",
       "  '245-1-3-a': 'Et dukkehjem',\n",
       "  'lang': 'nob',\n",
       "  'year': 2010},\n",
       " '2012091409046': {'100-1- -a': 'Ibsen, Henrik',\n",
       "  '245-1-3-a': 'Et dukkehjem',\n",
       "  'lang': 'nob',\n",
       "  'year': 2009},\n",
       " '2013010808064': {'100-1- -a': 'Ibsen, Henrik',\n",
       "  '245-1-3-a': 'Et dukkehjem',\n",
       "  'lang': 'nob',\n",
       "  'year': 2005},\n",
       " '2015120808042': {'100-1- -a': 'Ibsen, Henrik',\n",
       "  '245-1-3-a': 'Et dukkehjem',\n",
       "  'lang': 'mul',\n",
       "  'year': 2006},\n",
       " '2016031009565': {'100-1- -a': 'Ibsen, Henrik',\n",
       "  '245-1-3-a': 'Et dukkehjem :',\n",
       "  'lang': 'nob',\n",
       "  'year': 2008}}"
      ]
     },
     "execution_count": 111,
     "metadata": {},
     "output_type": "execute_result"
    }
   ],
   "source": [
    "metadata(urns = list([str(x) for x in t.urn]), marctuples = [(100,1,' ', 'a'), (245,1,3,'a')])"
   ]
  }
 ],
 "metadata": {
  "kernelspec": {
   "display_name": "Python 3",
   "language": "python",
   "name": "python3"
  },
  "language_info": {
   "codemirror_mode": {
    "name": "ipython",
    "version": 3
   },
   "file_extension": ".py",
   "mimetype": "text/x-python",
   "name": "python",
   "nbconvert_exporter": "python",
   "pygments_lexer": "ipython3",
   "version": "3.8.3"
  }
 },
 "nbformat": 4,
 "nbformat_minor": 4
}
